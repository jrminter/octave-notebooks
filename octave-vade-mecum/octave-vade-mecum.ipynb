{
 "cells": [
  {
   "cell_type": "markdown",
   "metadata": {},
   "source": [
    "# A Programmer's Guide To Octave\n",
    "\n",
    "Adapted from Mike James [Programmers Guide to Octave](https://www.i-programmer.info/programming/other-languages/4779-a-programmers-guide-to-octave.html) by John Minter and converted into a Jupyter Notebook with an Octave Kernel.\n",
    "\n",
    "N.B. - the section on Range indice needs some work...\n",
    "\n",
    "## Introduction\n",
    "\n",
    "This guide gives you the essence of Octave. It is designed to answer the questions that arise when you first encounter the language with some knowledge of any other language, no matter how slight. It isn't an in depth account and there are lots of topics that aren't even mentioned in passing. The aim is to get you started and to provide an orientation that will make exploring the rest of Octave easier.\n",
    "\n",
    "Octave is an interpreted language that is pragmatic rather than theoretically pure. It gets the job done, but there aren't many interesting language features that are going to make you think hard about programming. However, if you have some math you want to get done, Octave will enable you to solve the problem fast. You can also think of it as the math companion of the R statistical language. Octave is ideal for general math or when you need to implement some\n",
    "general statistical algorithm and play with it.\n",
    "\n",
    "## Getting Octave\n",
    "\n",
    "One can download Octave binaries from the Octave [Download](https://www.gnu.org/software/octave/download.html) site.  You will notice four tabs: **Source**, **GNU/Linux**, **macOS**, **BSD**, and **Windows**.\n",
    "\n",
    "- The **Source** tab provides a link to the appropriate [ftp](https://ftpmirror.gnu.org/octave) mirror.\n",
    "\n",
    "- The **GNU/Linux** tab notes that most distributions have Octave in their package managers. Those that support [**Flatpak**](https://flatpak.org/setup/) can get the software from [**Flathub**](https://flathub.org/apps/details/org.octave.Octave).\n",
    "\n",
    "- The **MacOS** tab notes that one can get the application from [Homebrew](https://brew.sh/), [MacPorts](https://www.macports.org/), [Fink](http://www.finkproject.org/), or as an [App Bundle](https://octave-app.org/Download.html). I am currenly running the Octave 5.1.1 [Developer](http://octave-app.org/Developer-Downloads.html) App bundle on macOS Mojave.\n",
    "\n",
    "- The **Windows** tab lists the current installers.\n",
    "\n",
    "The installer will guide you through the steps needed to install Octave and you should accept the defaults unless you have a good reason not to.\n",
    "\n",
    "The latest version of Octave comes with a GUI interface complete with a REPL that allows you to type in commands and see the result at once.\n",
    "\n",
    "![command window](inc/cmd-win-1.png)\n",
    "\n",
    "## Programming\n",
    "\n",
    "Programming in Octave is slightly different from most languages - as it is a persistent programming environment. What this means is that you work at a command prompt and any variables you create persist for the session. Anything you type is evaluated as soon as you press the return key and the result is displayed - unless you finish the line with a semi-colon when the output is suppressed.\n",
    "\n",
    "Note that is if you type `A=10` you get output:"
   ]
  },
  {
   "cell_type": "code",
   "execution_count": 1,
   "metadata": {},
   "outputs": [
    {
     "name": "stdout",
     "output_type": "stream",
     "text": [
      "A =  10\n"
     ]
    }
   ],
   "source": [
    "A=10"
   ]
  },
  {
   "cell_type": "markdown",
   "metadata": {},
   "source": [
    "If you later type `A` Octave returns the value:"
   ]
  },
  {
   "cell_type": "code",
   "execution_count": 2,
   "metadata": {},
   "outputs": [
    {
     "name": "stdout",
     "output_type": "stream",
     "text": [
      "A =  10\n"
     ]
    }
   ],
   "source": [
    "A"
   ]
  },
  {
   "cell_type": "markdown",
   "metadata": {},
   "source": [
    "Once you have created a variable at the command line, it stores whatever value you have given it until you close Octave down or use the clear command.\n",
    "\n",
    "If you type clear then all variables are removed from the environment and if you then type A you will see the error message \"error 'A' undefined near line x column y\"\n",
    "\n",
    "This retained or persistent mode is great for interactive programming. For example, you can read or type in a data matrix and then try out commands to compute whatever you are trying to get from it.\n",
    "\n",
    "This is a good way to learn Octave but at some point you will want to write something that looks more like a traditional program that you load and run. This is very easy but it is important to realize that this all works within the persistent environment and code that you read in from a file is treated just like code you type in. That is after the code has run the environment has changed according to what variables the code created and modified. This means you can work by running one program on some data you typed in and then run another program to process the results of the first program.\n",
    "\n",
    "If this very interactive style of working worries you - don't fret because you can create programs that work in isolation simply by starting them off with the clear command.\n",
    "\n",
    "## Writing Programs\n",
    "\n",
    "So how do you create an Octave program?\n",
    "\n",
    "The answer is you can simply put the code that you would have typed at the command line into a file with a name that ends in .m.\n",
    "\n",
    "The GUI interface comes with an editor but you can use any editor you care to but NotePad or NotePad++ are good choices. You can invoke the editor within Octave by typing edit filename which editor you get depends on the system and how it has been configured. If you don't change the default configuration then you will get the built in GUI editor which is what I recommend using to get started at least.\n",
    "\n",
    "To run an Octave program you can simply type its name at the command prompt. Of course the file has to be stored in the current directory and you need to know that the ls command will list the contents of the current directory and the cd will change the directory in the usual way. \n",
    "\n",
    "If you have created a program in a file and when you type the name Octave cannot find it and reports an \"undefined\" error then it is most likely that the file isn't in the current directory.\n",
    "\n",
    "The new GUI editor provides features such as syntax highlighting and you can use it to directly run a program and even set breakpoints for debugging. \n",
    "\n",
    "So for example if you start the editor using File,New, New Script and enter the commands:\n",
    "\n",
    "```\n",
    "A=10;\n",
    "A\n",
    "```\n",
    "\n",
    "![Octave's editor](inc/editor.png)\n",
    "\n",
    "You can run it by clicking on the Save and Run icon - the gear wheel with the arrow - give the file the name `test.m`.\n",
    "\n",
    "The only question is where is the output?\n",
    "\n",
    "The answer is in the command Window which you can switch to using the tabs at the bottom of the screen. A better idea is to drag the command Window to a new location and tile it so that you can see it and the editor. \n",
    "\n",
    "When you do see the command window you will see displayed:\n",
    "\n",
    "![command window](inc/cmd-win-2.png)\n",
    "\n",
    "Notice that after the program has run, A is still defined and has the value 10 so you can carry on using it by typing in commands at the command prompt or by running other programs that use a variable called A.\n",
    "\n",
    "You can see what variables have been defined in the Workspace window along with information about their type:\n"
   ]
  },
  {
   "cell_type": "code",
   "execution_count": 3,
   "metadata": {},
   "outputs": [
    {
     "name": "stdout",
     "output_type": "stream",
     "text": [
      "A =  10\n"
     ]
    }
   ],
   "source": [
    "A"
   ]
  },
  {
   "cell_type": "markdown",
   "metadata": {},
   "source": [
    "\n",
    "Also notice that Octave is case sensitive, so  if you saved the file as \"Test.m\"  you have to type \"Test\" whenever you want it;  \"test\", \"TEST\", \"tesT\" or any other variation just doesn't work.\n",
    "\n",
    "If the file contains a function - see later - then you can call the function just by typing the file name followed by brackets and any arguments. For example if Test.m contains a function you can write Test() to run the function.\n",
    "\n",
    "## Matrices\n",
    "\n",
    "The central data structure in Octave is the matrix and the sooner we get to grips with it the better. All data in Octave is a matrix even a single number is a 1x1 matrix. \n",
    "\n",
    "You define a variable by using it, i.e. by assigning it a value. Variables are not typed and you can store anything in a variable at any time as long as it makes sense.\n",
    "\n",
    "Numbers can be integer, floating point and complex. Complex values use i or j for the imaginary component.\n",
    "\n",
    "For example:\n",
    "\n",
    "\n",
    "```\n",
    "A=1     integer\n",
    "A=0.1   floating point\n",
    "A= 1E3  floating point\n",
    "A= 1+2i complex\n",
    "```\n",
    "\n",
    "Note:  `i` has to trail the value in a complex number - `1+2i`, **not** `1+i2`, and there can be no spaces between the i and the number...\n",
    "\n",
    "All values in Octave are represented internally as double precision value (**including integers**). There are built-in functions for working with real and complex values.\n",
    "\n",
    "There is also a special missing data value, `NA`, which can be used to implement statistical procedures that recognize missing data.\n",
    "\n",
    "Logical values are represented by 1 as **true** and 0 as **false**. There are also strings that can be stored in variables and manipulated, and these work in the way you would expect.\n",
    "\n",
    "What makes Octave special is the ease with which you can create matrices and work with them.\n",
    "\n",
    "A matrix is define using square brackets to contain a list of numbers. Matrices are one or two-dimensional. Working with multidimensional structures is possible but more complicated.\n",
    "\n",
    "When typing in a matrix the comma separator means move on one column and the semicolon means move on one row.\n",
    "\n",
    "So for example:"
   ]
  },
  {
   "cell_type": "code",
   "execution_count": 4,
   "metadata": {},
   "outputs": [
    {
     "name": "stdout",
     "output_type": "stream",
     "text": [
      "A =\n",
      "\n",
      "   1   2   3\n",
      "   4   5   6\n",
      "\n"
     ]
    }
   ],
   "source": [
    "A=[1,2,3;4,5,6]"
   ]
  },
  {
   "cell_type": "markdown",
   "metadata": {},
   "source": [
    "defines a 2x3 matrix.\n",
    "\n",
    "Matrices cannot be irregular - if the first row has three values then the subsequent rows must have three values.\n",
    "\n",
    "Obviously,"
   ]
  },
  {
   "cell_type": "code",
   "execution_count": 5,
   "metadata": {},
   "outputs": [
    {
     "name": "stdout",
     "output_type": "stream",
     "text": [
      "A =\n",
      "\n",
      "   1   2   3\n",
      "\n"
     ]
    }
   ],
   "source": [
    "A=[1,2,3]"
   ]
  },
  {
   "cell_type": "markdown",
   "metadata": {},
   "source": [
    "is a row vector and"
   ]
  },
  {
   "cell_type": "code",
   "execution_count": 6,
   "metadata": {},
   "outputs": [
    {
     "name": "stdout",
     "output_type": "stream",
     "text": [
      "A =\n",
      "\n",
      "   1\n",
      "   2\n",
      "   3\n",
      "\n"
     ]
    }
   ],
   "source": [
    "A=[1;2;3]"
   ]
  },
  {
   "cell_type": "markdown",
   "metadata": {},
   "source": [
    "is a column vector.\n",
    "\n",
    "## Arithmetic with Matrices\n",
    "\n",
    "The important thing about matrices in Octave is that the arithmetic operators\n",
    "work as you would expect from math rather than programming.\n",
    "\n",
    "As long as the matrices and scalars involved in the expression are conformable then the operation will be a matrix operation.\n",
    "\n",
    "For example:"
   ]
  },
  {
   "cell_type": "code",
   "execution_count": 7,
   "metadata": {},
   "outputs": [
    {
     "name": "stdout",
     "output_type": "stream",
     "text": [
      "A =\n",
      "\n",
      "   1   2   3\n",
      "   4   5   6\n",
      "\n",
      "B =\n",
      "\n",
      "    7    8\n",
      "    9   10\n",
      "   11   12\n",
      "\n",
      "ans =\n",
      "\n",
      "    58    64\n",
      "   139   154\n",
      "\n"
     ]
    }
   ],
   "source": [
    "A=[1,2,3;4,5,6]\n",
    "B=[7,8;9,10;11,12]\n",
    "A*B"
   ]
  },
  {
   "cell_type": "markdown",
   "metadata": {},
   "source": [
    "will multiply the two matrices together. If "
   ]
  },
  {
   "cell_type": "code",
   "execution_count": 8,
   "metadata": {},
   "outputs": [
    {
     "name": "stdout",
     "output_type": "stream",
     "text": [
      "C =  10\n"
     ]
    }
   ],
   "source": [
    "C=10"
   ]
  },
  {
   "cell_type": "markdown",
   "metadata": {},
   "source": [
    "then"
   ]
  },
  {
   "cell_type": "code",
   "execution_count": 9,
   "metadata": {},
   "outputs": [
    {
     "name": "stdout",
     "output_type": "stream",
     "text": [
      "ans =\n",
      "\n",
      "   10   20   30\n",
      "   40   50   60\n",
      "\n"
     ]
    }
   ],
   "source": [
    "C*A"
   ]
  },
  {
   "cell_type": "markdown",
   "metadata": {},
   "source": [
    "is a scalar multiplication of each element of A by 10.\n",
    "\n",
    "The only variation in the way matrices are treated is that you can opt for an element-by-element operation by putting a dot before the operator.\n",
    "\n",
    "For example,"
   ]
  },
  {
   "cell_type": "code",
   "execution_count": 10,
   "metadata": {},
   "outputs": [
    {
     "name": "stdout",
     "output_type": "stream",
     "text": [
      "A =\n",
      "\n",
      "   1   2   3\n",
      "   4   5   6\n",
      "\n",
      "B =\n",
      "\n",
      "   2   4   7\n",
      "   1   2   3\n",
      "\n",
      "ans =\n",
      "\n",
      "    2    8   21\n",
      "    4   10   18\n",
      "\n"
     ]
    }
   ],
   "source": [
    "A=[1,2,3;4,5,6]\n",
    "B=[2,4,7;1,2,3]\n",
    "A.*B\n"
   ]
  },
  {
   "cell_type": "markdown",
   "metadata": {},
   "source": [
    "performs an element-by-element multiplication of the two matrices and not a matrix multiplication i.e. a<sub>ij</sub>b<sub>ij</sub>.\n",
    "\n",
    "There are two specifically matrix operations that we need to know about. The single quote performs a complex transpose, e.g."
   ]
  },
  {
   "cell_type": "code",
   "execution_count": 11,
   "metadata": {},
   "outputs": [
    {
     "name": "stdout",
     "output_type": "stream",
     "text": [
      "A =\n",
      "\n",
      "   1\n",
      "   2\n",
      "   3\n",
      "\n"
     ]
    }
   ],
   "source": [
    "A=[1,2,3]'"
   ]
  },
  {
   "cell_type": "markdown",
   "metadata": {},
   "source": [
    "is a column vector.\n",
    "\n",
    "For a real matrix the dash is a simple transpose. If the matrix is complex the dash also takes the complex conjugate (i.e. it is the Hermitian transpose). If you want a simple transpose of a complex matrix then use dot single quote.\n",
    "\n",
    "The second is the inverse which is more complicated. You can use the inverse function to find the inverse of any square non-singular matrix. For example:"
   ]
  },
  {
   "cell_type": "code",
   "execution_count": 12,
   "metadata": {},
   "outputs": [
    {
     "name": "stdout",
     "output_type": "stream",
     "text": [
      "A =\n",
      "\n",
      "   1   2\n",
      "   3   4\n",
      "\n",
      "B =\n",
      "\n",
      "  -2.00000   1.00000\n",
      "   1.50000  -0.50000\n",
      "\n",
      "ans =\n",
      "\n",
      "   1.00000   0.00000\n",
      "   0.00000   1.00000\n",
      "\n"
     ]
    }
   ],
   "source": [
    "A = [1,2;3,4]\n",
    "B = inverse(A)\n",
    "A*B"
   ]
  },
  {
   "cell_type": "markdown",
   "metadata": {},
   "source": [
    "displays the identity matrix.\n",
    "\n",
    "There is another way to use the inverse via an operator.\n",
    "\n",
    "The expression `x\\y` is the left division of `y` by `x` and is equivalent to\n",
    "\n",
    "```\n",
    "inverse(x)*y\n",
    "```\n",
    "\n",
    "The advantage of using this notation is that the inverse isn't actually used in the calculation.\n",
    "\n",
    "The expression `x/y` is the right division of `x` by `y` and it is equivalent to\n",
    "\n",
    "```\n",
    "x*inverse(y)\n",
    "```\n",
    "\n",
    "Again the inverse matrix is never computed and generalized inverses are used if necessary.\n",
    "\n",
    "## Indexing\n",
    "\n",
    "In an ideal world we would just define some matrices and get on with combining them using matrix arithmetic. In practice matrices are often the wrong shape for the job and we need to get at sub-matrices or even single elements.\n",
    "\n",
    "This is what indexing is all about - specifying sub-matrices.\n",
    "\n",
    "The indexing operator is `()` and if you specify index values for each dimension of a matrix then things work as you would expect. For example:"
   ]
  },
  {
   "cell_type": "code",
   "execution_count": 13,
   "metadata": {},
   "outputs": [
    {
     "name": "stdout",
     "output_type": "stream",
     "text": [
      "ans =  2\n"
     ]
    }
   ],
   "source": [
    "A(1,2)"
   ]
  },
  {
   "cell_type": "markdown",
   "metadata": {},
   "source": [
    "is the value in row 1 column 2. \n",
    "\n",
    "You can assign a new value to a single element e.g."
   ]
  },
  {
   "cell_type": "code",
   "execution_count": 14,
   "metadata": {},
   "outputs": [
    {
     "name": "stdout",
     "output_type": "stream",
     "text": [
      "A =\n",
      "\n",
      "   1   3\n",
      "   3   4\n",
      "\n"
     ]
    }
   ],
   "source": [
    "A(1,2)=3"
   ]
  },
  {
   "cell_type": "markdown",
   "metadata": {},
   "source": [
    "If you supply just one index for a 2D matrix then it is treated as a single 1D column vector obtained by stacking up each column of the original matrix.\n",
    "\n",
    "To define sub-matrices you need to use more complicated indexing. There are two approaches - vectors of simple indexes or ranges.\n",
    "\n",
    "## Vector Indexes\n",
    "A vector of indexes just picks out the combined set of elements that each index would pick out. For example:"
   ]
  },
  {
   "cell_type": "code",
   "execution_count": 15,
   "metadata": {},
   "outputs": [
    {
     "name": "stdout",
     "output_type": "stream",
     "text": [
      "ans =\n",
      "\n",
      "   1\n",
      "   3\n",
      "\n"
     ]
    }
   ],
   "source": [
    "A([1,2],1)"
   ]
  },
  {
   "cell_type": "markdown",
   "metadata": {},
   "source": [
    "picks out `A(1,1)` and `A(2,1)` and the result is a column vector because you have specified part of a column of the original matrix.\n",
    "\n",
    "It doesn't matter if the vector of indexes is a row or column vector. That is `A([1;2],1)` is the same as `A([1,2],1)`.\n",
    "\n",
    "You can use vector indexes in both index positions. for example:"
   ]
  },
  {
   "cell_type": "code",
   "execution_count": 16,
   "metadata": {},
   "outputs": [
    {
     "name": "stdout",
     "output_type": "stream",
     "text": [
      "ans =\n",
      "\n",
      "   1   3\n",
      "   3   4\n",
      "\n"
     ]
    }
   ],
   "source": [
    "A([1,2],[1,2])"
   ]
  },
  {
   "cell_type": "markdown",
   "metadata": {},
   "source": [
    "picks out `A(1,1)`, `A(2,1)`, `A(1,2)` and `A(2,2)` which is returned as a `2x2`\n",
    "matrix because this is the \"shape\" of the sub matrix in the original array.\n",
    "\n",
    "The most important thing to notice about vector indexes is that they allow you to pick out non-contiguous columns and rows. For example:"
   ]
  },
  {
   "cell_type": "code",
   "execution_count": 17,
   "metadata": {},
   "outputs": [
    {
     "name": "stdout",
     "output_type": "stream",
     "text": [
      "A =\n",
      "\n",
      "   1   2   3\n",
      "   4   5   6\n",
      "   7   8   9\n",
      "\n",
      "ans =\n",
      "\n",
      "   1   2\n",
      "   7   8\n",
      "\n"
     ]
    }
   ],
   "source": [
    "A = [1,2,3;4,5,6;7,8,9]\n",
    "A([1,3],[1,2])"
   ]
  },
  {
   "cell_type": "markdown",
   "metadata": {},
   "source": [
    "also picks out a `2x2` matrix but it takes the intersection of the first and third rows and the first and second columns.\n",
    "\n",
    "In general if you write something like:\n",
    "\n",
    "```\n",
    "Matrix[ v1, v2]\n",
    "```\n",
    "\n",
    "where v1 and v2 are vectors then this gives a matrix made up of the rows specified by v1 and the columns specified by v2.\n",
    "\n",
    "You can use variables within vector indexing, for example:"
   ]
  },
  {
   "cell_type": "code",
   "execution_count": 18,
   "metadata": {},
   "outputs": [
    {
     "name": "stdout",
     "output_type": "stream",
     "text": [
      "v1 =\n",
      "\n",
      "   1   3\n",
      "\n",
      "v2 =\n",
      "\n",
      "   1   2\n",
      "\n",
      "ans =\n",
      "\n",
      "   1   2\n",
      "   7   8\n",
      "\n"
     ]
    }
   ],
   "source": [
    "v1=[1,3]\n",
    "v2=[1,2]\n",
    "A(v1,v2)"
   ]
  },
  {
   "cell_type": "markdown",
   "metadata": {},
   "source": [
    "works and is the same as:"
   ]
  },
  {
   "cell_type": "code",
   "execution_count": 19,
   "metadata": {},
   "outputs": [
    {
     "name": "stdout",
     "output_type": "stream",
     "text": [
      "ans =\n",
      "\n",
      "   1   2\n",
      "   7   8\n",
      "\n"
     ]
    }
   ],
   "source": [
    "A([1,3],[1,2])"
   ]
  },
  {
   "cell_type": "markdown",
   "metadata": {},
   "source": [
    "Also:"
   ]
  },
  {
   "cell_type": "code",
   "execution_count": 20,
   "metadata": {},
   "outputs": [
    {
     "name": "stdout",
     "output_type": "stream",
     "text": [
      "s =  1\n",
      "ans =\n",
      "\n",
      "   1   2\n",
      "   7   8\n",
      "\n"
     ]
    }
   ],
   "source": [
    "s=1\n",
    "A([s,3],[1,2])"
   ]
  },
  {
   "cell_type": "markdown",
   "metadata": {},
   "source": [
    "Notice that any sub-matrix you specify can be retrieved or you can assign a matrix of the same size to it. For example:"
   ]
  },
  {
   "cell_type": "code",
   "execution_count": 21,
   "metadata": {},
   "outputs": [
    {
     "name": "stdout",
     "output_type": "stream",
     "text": [
      "A =\n",
      "\n",
      "   0   0   3\n",
      "   4   5   6\n",
      "   0   0   9\n",
      "\n"
     ]
    }
   ],
   "source": [
    "A([1,3],[1,2])=[0,0;0,0]"
   ]
  },
  {
   "cell_type": "markdown",
   "metadata": {},
   "source": [
    "zeros the intersection of the first and third rows and the first and second columns.\n",
    "\n",
    "## Range indexes\n",
    "\n",
    "Vector indexes work well when you want to select a small number of rows and columns but they are a lot of work if the number increases. For example how would you select the first 1000 elements of column 1? Clearly\n",
    "\n",
    "\n",
    "```\n",
    "A([1,2,3,4....],1)\n",
    "```\n",
    "\n",
    "isn't going to be easy typing.\n",
    "\n",
    "The solution is to use a range. A range represents a numerical range of value. For example, 1:10 generates the numbers 1 to 10. You can also specify a step size, so for example 1:2:7 (or 1:2:8) generates 1,3,5,7. Using a range you can pick out lots of rows and columns very easily but only if they have a simple numerical pattern.\n",
    "\n",
    "For example to pick out the first 1000 elements in column 1 you would write:\n",
    "\n",
    "```\n",
    "A=(1:2000)\n",
    "A(1:1000,1)\n",
    "```\n",
    "\n",
    "You can write:\n",
    "\n",
    "\n",
    "```\n",
    "A([1:1000],1)\n",
    "```\n",
    "\n",
    "and get the same 1000 rows but a range is interpreted as a row vector so you don't have to.\n",
    "\n",
    "If you would like every other row of the matrix you can use:\n",
    "\n",
    "```\n",
    "A([1:2:1000],1)\n",
    "```\n",
    "\n",
    "In general a range is specified as\n",
    "\n",
    "```\n",
    "start:increment:end\n",
    "```\n",
    "and if you leave out the increment it is assumed to be 1 and the range is\n",
    "\n",
    "```\n",
    "start:end\n",
    "```\n",
    "\n",
    "The increment can be negative.\n",
    "\n",
    "You can also specify a default range as just a : which means the entire possible range. So\n",
    "\n",
    "```\n",
    "A(:,1)\n",
    "```\n",
    "\n",
    "You can also specify a default range as just a : which means the entire possible range. So\n",
    "\n",
    "```\n",
    "A(:,1)\n",
    "```\n",
    "\n",
    "means all the rows and column 1 i.e. all of column 1 and\n",
    "\n",
    "```\n",
    "A(1,:)\n",
    "```\n",
    "\n",
    "means all of the columns and row 1 and finally\n",
    "\n",
    "```\n",
    "A(:,:)\n",
    "```\n",
    "\n",
    "is the same as A.\n",
    "\n",
    "\n",
    "You can also use A(:) to mean all of the rows and columns returned as a single column vector in column order.\n",
    "\n",
    "As with vector indexes you can use variables to specify the start, stop and increment values.\n",
    "\n",
    "You can also assign to the selected sub-matrix if what you are assigning has the same size as the sub-matrix.\n",
    "\n",
    "Finally you can mix vector and indexing.\n",
    "\n",
    "If you want to pick out the first 1000 rows and the 1500th row you can write:\n",
    "\n",
    "```\n",
    "A([1:1000,1500],:)\n",
    "```\n",
    "\n",
    "Also notice that an index can occur more than once in both vector, range and mixed indexing. If this happens the column or row is included more than once. This can be used to construct larger matrices from smaller ones - more on this in the next section. For example:\n",
    "\n",
    "```\n",
    "B=[1,2,3]\n",
    "C=B([1,1,1,1],:]\n",
    "```\n",
    "\n",
    "makes C a 3x4 matrix with identical rows.\n",
    "\n",
    "\n",
    "## Defining Matrices\n",
    "\n",
    "Often you need to define regular matrices, i.e. that have a regular pattern of entries. For example:"
   ]
  },
  {
   "cell_type": "code",
   "execution_count": 22,
   "metadata": {},
   "outputs": [
    {
     "name": "stdout",
     "output_type": "stream",
     "text": [
      "A =\n",
      "\n",
      "Diagonal Matrix\n",
      "\n",
      "   1   0   0\n",
      "   0   1   0\n",
      "   0   0   1\n",
      "\n"
     ]
    }
   ],
   "source": [
    "A=eye(3)"
   ]
  },
  {
   "cell_type": "markdown",
   "metadata": {},
   "source": [
    "sets up a 3x3 identity matrix usually represented by I hence the name of the function. In general eye(m.n) is a unit diagonal m x n matrix.\n",
    "\n",
    "You can set up a matrix of 1s using ones(n) or ones(m,n) for a n x n or m x n matrix. There is also zeros that works in the same way.\n",
    "\n",
    "There are various other functions that will create other constant, periodic or well known matrices. These you can look up in the documentation and they are not difficult to use.\n",
    "\n",
    "There is one other general idiom used a lot in Octave to build larger matrices from smaller.  You can build a bigger matrix by putting together, i.e. concatenating, larger matrices. For this to worth the sub-matrices have to be the right size to fit together to make a matrix without any holes or ragged edges.\n",
    "\n",
    "For example if"
   ]
  },
  {
   "cell_type": "code",
   "execution_count": 23,
   "metadata": {},
   "outputs": [
    {
     "name": "stdout",
     "output_type": "stream",
     "text": [
      "A =\n",
      "\n",
      "   1   2\n",
      "\n",
      "B =\n",
      "\n",
      "   3   4\n",
      "\n"
     ]
    }
   ],
   "source": [
    "A=[1,2]\n",
    "B=[3,4]"
   ]
  },
  {
   "cell_type": "markdown",
   "metadata": {},
   "source": [
    "then"
   ]
  },
  {
   "cell_type": "code",
   "execution_count": 24,
   "metadata": {},
   "outputs": [
    {
     "name": "stdout",
     "output_type": "stream",
     "text": [
      "C =\n",
      "\n",
      "   1   2\n",
      "   3   4\n",
      "\n"
     ]
    }
   ],
   "source": [
    "C=[A;B]"
   ]
  },
  {
   "cell_type": "markdown",
   "metadata": {},
   "source": [
    "i.e. a 2x2 matrix.\n",
    "\n",
    "This can become confusing but as long as you keep a clear head and think of it as fitting a jigsaw together it all works.\n",
    "\n",
    "For example if C is the 2x2 matrix given above then:"
   ]
  },
  {
   "cell_type": "code",
   "execution_count": 25,
   "metadata": {},
   "outputs": [
    {
     "name": "stdout",
     "output_type": "stream",
     "text": [
      "D =\n",
      "\n",
      "   1   2   1   2\n",
      "   3   4   3   4\n",
      "   1   2   1   2\n",
      "   3   4   3   4\n",
      "\n"
     ]
    }
   ],
   "source": [
    "D=[C,C;C,C]"
   ]
  },
  {
   "cell_type": "markdown",
   "metadata": {},
   "source": [
    "is a 4x4 square matrix equal to"
   ]
  },
  {
   "cell_type": "markdown",
   "metadata": {},
   "source": [
    "## Functions\n",
    "\n",
    "There aren't many places that Octave differs from other languages but its treatment of functions is worth noting.\n",
    "\n",
    "At its simplest a function is defined using:\n",
    "\n",
    "```\n",
    "function name\n",
    " Octave commands\n",
    "endfunction\n",
    "```\n",
    "\n",
    "You can define a function interactively at the command prompt or in a file of the same name. You can include multiple functions within a file but if you want to load the function by using its name the file and the function have to have the same name.\n",
    "\n",
    "If you want to include parameters you can in the usual way. It is the way return values are specified that makes Octave slightly different from the norm. In most languages you finish a function with a return value statement which not only brings the function to a close but returns the value specified. This is not how Octave works.\n",
    "\n",
    "In Octave you specify the return variables at the start of the function. That is\n",
    "\n",
    "```\n",
    "function variable= name(parameters) \n",
    " Octave commands\n",
    "endfunction\n",
    "```\n",
    "\n",
    "When the function finishes any value stored in the specified variable is returned as the result of the function.\n",
    "\n",
    "You can also exit a function using the return command but you don't have to specify the return value as this is simply the value in the return variable.\n",
    "\n",
    "For example:\n",
    "\n",
    "```\n",
    "function myResult=myFunction(myParameter) \n",
    " myResult=myParameter\n",
    "endfunction\n",
    "```\n",
    "\n",
    "With this definition the command\n",
    "\n",
    "```\n",
    "value=myFunction(1)\n",
    "```\n",
    "\n",
    "stores 1 in value because myParameter is set to 1 and the function sets myResult to whatever myParameter is and this is the variable that has the return value.\n",
    "\n",
    "A function to add two numbers or matrices would be:There aren't many places that Octave differs from other languages but its treatment of functions is worth noting.\n",
    "\n",
    "At its simplest a function is defined using:"
   ]
  },
  {
   "cell_type": "code",
   "execution_count": 26,
   "metadata": {},
   "outputs": [
    {
     "name": "stdout",
     "output_type": "stream",
     "text": [
      "answer =  3\n"
     ]
    }
   ],
   "source": [
    "function c=add(a,b)\n",
    " c=a+b; \n",
    "endfunction\n",
    "\n",
    "answer=add(1,2)"
   ]
  },
  {
   "cell_type": "markdown",
   "metadata": {},
   "source": [
    "You can specify multiple return variables as a row vector.\n",
    "\n",
    "For example if you want a function that returns the sum and difference of two value you could write:"
   ]
  },
  {
   "cell_type": "code",
   "execution_count": 27,
   "metadata": {},
   "outputs": [],
   "source": [
    "function [s,d] =sumdiff(a,b)\n",
    " s=a+b;\n",
    " d=a-b;\n",
    "endfunction"
   ]
  },
  {
   "cell_type": "markdown",
   "metadata": {},
   "source": [
    "To use this you can either assign the result to variables in a row vector e.g."
   ]
  },
  {
   "cell_type": "code",
   "execution_count": 28,
   "metadata": {},
   "outputs": [
    {
     "name": "stdout",
     "output_type": "stream",
     "text": [
      "x =  3\n",
      "y = -1\n"
     ]
    }
   ],
   "source": [
    "[x,y]=sumdiff(1,2)"
   ]
  },
  {
   "cell_type": "markdown",
   "metadata": {},
   "source": [
    "stores 3 in x and -1 in y.\n",
    "\n",
    "There are some utility functions that modify the way multiple return values work but they are easy to work out once you have seen the basic idea.\n",
    "\n",
    "All variables in functions are local to the function and if you don't assign a value to a return variable you will get an error message.\n",
    "\n",
    "## Vectorization\n",
    "\n",
    "In most languages for loops are the way to get iterative work done. Octave has for loops, if statements and everything else you would expect to find in a programming language but they tend not to be used as much. The reason is that the predominant mode of programming is to use matrix/vector operations.\n",
    "\n",
    "Functions are automatically applied to entire vectors or matrices element-by-element. For example:\n"
   ]
  },
  {
   "cell_type": "code",
   "execution_count": 29,
   "metadata": {},
   "outputs": [
    {
     "name": "stdout",
     "output_type": "stream",
     "text": [
      "ans =\n",
      "\n",
      "   0.84147   0.90930   0.14112\n",
      "\n"
     ]
    }
   ],
   "source": [
    "sin([1,2,3])"
   ]
  },
  {
   "cell_type": "markdown",
   "metadata": {},
   "source": [
    "returns the a vector equal to `[sin(1),sin(2),sin(3)]` - this would normally need a for loop.\n",
    "\n",
    "Even user defined functions work in this way without you having to do anything extra.\n",
    "\n",
    "If a function has two or more parameters then the operation is still performed on the elements taken a set at a time.\n",
    "\n",
    "For example even the sumdiff function we defined earlier will work with vectors:"
   ]
  },
  {
   "cell_type": "code",
   "execution_count": 30,
   "metadata": {},
   "outputs": [
    {
     "name": "stdout",
     "output_type": "stream",
     "text": [
      "x =\n",
      "\n",
      "   5   7   9\n",
      "\n",
      "y =\n",
      "\n",
      "  -3  -3  -3\n",
      "\n"
     ]
    }
   ],
   "source": [
    "[x,y]=sumdiff([1,2,3],[4,5,6])"
   ]
  },
  {
   "cell_type": "markdown",
   "metadata": {},
   "source": [
    "and you will discover that x is `[1+4,2+5,3+6]` and y is `[1-4,2-5,3-6]` .\n",
    "\n",
    "If you try this with different sized vectors you will discover that the elements of the smaller are reused until the computation is complete - look up \"broadcasting\" in the documentation.\n",
    "\n",
    "Finally the most difficult vectorization for general programmers to absorb is the inner product.\n",
    "\n",
    "If you want to work out the sum of xi yi i.e the sum of the element wise product of two vectors, you don't need to use a loop. Instead you simply convert to an inner product form -\n",
    "\n",
    "```\n",
    "result=x*y'\n",
    "```\n",
    "\n",
    "This transposes x and then multiplies the two together - which in matrix terms is the sum of the elementwise product of the row by the column. Notice that this is not the same as x'*y which is a matrix called the outer product.\n",
    "\n",
    "You can even use the inner product to sum a vector. For example:"
   ]
  },
  {
   "cell_type": "code",
   "execution_count": 31,
   "metadata": {},
   "outputs": [
    {
     "name": "stdout",
     "output_type": "stream",
     "text": [
      "s =  6\n"
     ]
    }
   ],
   "source": [
    "x=[1,2,3];\n",
    "y=ones(1,3);\n",
    "s=x*y'"
   ]
  },
  {
   "cell_type": "markdown",
   "metadata": {},
   "source": [
    "\n",
    "This works because y is set to a row vector of 1s and thus we simply sum up the elements of y.\n",
    "\n",
    "Again no for loops were harmed in this calculation.\n",
    "\n",
    "Why do we bother - simply because vectorized forms are faster to work out and fit more naturally with the math.\n",
    "\n",
    "## Where next?\n",
    "\n",
    "There is a lot of goodness in Octave but this article has covered most of the ideas that a general programmer would find difficult at first.\n",
    "\n",
    "You need to find out about the control instructions - for loop, if, etc. You also need to find out about strings and other data structures. Octave also has excellent plotting commands and lots of libraries that will simplify your math tasks. In particular the optimization functions are extremely general and make it possible to write programs that implement things like neural networks using custom measures of goodness of fit. \n",
    "\n",
    "It is worth mentioning that most Octave programs make minimal use of loops and this is perhaps the one thing that that is difficult for a programmer familiar with another language to master. Writing an Octave program is more like writing a mathematical expression within some code to get data and present results.  \n",
    "\n",
    "Now that you have a start on programming in Octave, this is, in the main, just a matter of reading the documentation and always remember that Octave and MatLab are more or less identical."
   ]
  },
  {
   "cell_type": "code",
   "execution_count": null,
   "metadata": {},
   "outputs": [],
   "source": []
  }
 ],
 "metadata": {
  "kernelspec": {
   "display_name": "Octave",
   "language": "octave",
   "name": "octave"
  },
  "language_info": {
   "file_extension": ".m",
   "help_links": [
    {
     "text": "GNU Octave",
     "url": "https://www.gnu.org/software/octave/support.html"
    },
    {
     "text": "Octave Kernel",
     "url": "https://github.com/Calysto/octave_kernel"
    },
    {
     "text": "MetaKernel Magics",
     "url": "https://github.com/calysto/metakernel/blob/master/metakernel/magics/README.md"
    }
   ],
   "mimetype": "text/x-octave",
   "name": "octave",
   "version": "5.1.0"
  }
 },
 "nbformat": 4,
 "nbformat_minor": 2
}
